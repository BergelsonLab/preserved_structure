{
 "cells": [
  {
   "cell_type": "code",
   "execution_count": 161,
   "metadata": {},
   "outputs": [],
   "source": [
    "import numpy as np\n",
    "import pandas as pd\n",
    "from scipy.spatial.distance import cosine\n",
    "from numpy import linalg as la\n",
    "import matplotlib.pyplot as plt\n",
    "from scipy import stats\n",
    "\n",
    "classmap = pd.read_csv(\"class_map_seedlings.csv\")\n",
    "\n",
    "from object_vectors import *"
   ]
  },
  {
   "cell_type": "markdown",
   "metadata": {},
   "source": [
    "## Build random vectors\n",
    "\n",
    "generate 27 random vectors and assign them to one of the 27 object classes"
   ]
  },
  {
   "cell_type": "markdown",
   "metadata": {},
   "source": [
    "### for images\n",
    "\n",
    "27 x 2048"
   ]
  },
  {
   "cell_type": "code",
   "execution_count": 162,
   "metadata": {},
   "outputs": [],
   "source": [
    "imgvecs = np.random.randn(27, 2048)\n",
    "imgvecs = list(zip(classmap.obj_class.values, imgvecs))"
   ]
  },
  {
   "cell_type": "markdown",
   "metadata": {},
   "source": [
    "### for words\n",
    "\n",
    "27 x 300"
   ]
  },
  {
   "cell_type": "code",
   "execution_count": 163,
   "metadata": {},
   "outputs": [],
   "source": [
    "wrdvecs = np.random.randn(27, 300)\n",
    "wrdvecs = list(zip(classmap.obj_class.values, wrdvecs))"
   ]
  },
  {
   "cell_type": "markdown",
   "metadata": {},
   "source": [
    "## compute pairwise distances"
   ]
  },
  {
   "cell_type": "code",
   "execution_count": 164,
   "metadata": {},
   "outputs": [],
   "source": [
    "imgvecs.sort(key=lambda x: x[0])\n",
    "pairwise_img_matrix = []\n",
    "for vec in imgvecs:\n",
    "    for other in imgvecs:\n",
    "        pairwise_img_matrix.append((vec[0], other[0], cosine(vec[1], other[1])))\n",
    "\n",
    "imgdist = pd.DataFrame(pairwise_img_matrix, columns=[\"word\", \"other\", \"cos_dist\"]).query(\"word != other\")"
   ]
  },
  {
   "cell_type": "code",
   "execution_count": 165,
   "metadata": {},
   "outputs": [],
   "source": [
    "wrdvecs.sort(key=lambda x: x[0])\n",
    "pairwise_wrd_matrix = []\n",
    "for vec in wrdvecs:\n",
    "    result = []\n",
    "    for other in wrdvecs:\n",
    "        pairwise_wrd_matrix.append((vec[0], other[0], cosine(vec[1], other[1])))\n",
    "wrddist = pd.DataFrame(pairwise_wrd_matrix, columns=[\"word\", \"other\", \"cos_dist\"]).query(\"word != other\")"
   ]
  },
  {
   "cell_type": "code",
   "execution_count": 166,
   "metadata": {},
   "outputs": [],
   "source": [
    "def join(wrd, img):\n",
    "    wrd = wrd.rename({\"cos_dist\": \"cos_word\"}, axis=\"columns\")\n",
    "    img = img.rename({\"cos_dist\": \"cos_image\"}, axis=\"columns\")\n",
    "    wrd['id'] = [\"{}_{}\".format(x.word, x.other) for i, x in wrd.iterrows()]\n",
    "    img['id'] = [\"{}_{}\".format(x.word, x.other) for i, x in img.iterrows()]\n",
    "    joined = pd.merge(wrd, img, on='id')\n",
    "    joined = joined.loc[:, lambda df: ['id', 'cos_image', 'cos_word']]\n",
    "    joined['word'] = joined.id.str.split(\"_\").str[0]\n",
    "    joined['other'] = joined.id.str.split(\"_\").str[1]\n",
    "    joined = joined.drop(columns=['id'])\n",
    "    joined = joined[['word', 'other', 'cos_image', 'cos_word']]\n",
    "    return joined"
   ]
  },
  {
   "cell_type": "code",
   "execution_count": 167,
   "metadata": {},
   "outputs": [],
   "source": [
    "def filter_unique(dists):\n",
    "    df = dists.copy()\n",
    "    exists = []\n",
    "    for i, x in df.iterrows():\n",
    "        if \"{}_{}\".format(x.other, x.word) in exists:\n",
    "            df.drop(i, inplace=True)\n",
    "        else:\n",
    "            exists.append(\"{}_{}\".format(x.word, x.other))\n",
    "    return df"
   ]
  },
  {
   "cell_type": "code",
   "execution_count": 168,
   "metadata": {},
   "outputs": [],
   "source": [
    "df = join(wrddist, imgdist)\n",
    "df_uniq = filter_unique(df)\n",
    "df.to_csv(\"pairwise_distances_RANDOM.csv\", index=False)"
   ]
  },
  {
   "cell_type": "markdown",
   "metadata": {},
   "source": [
    "## Compare structure across image vs. word spaces\n",
    "\n",
    "there's no conserved relationships....as you'd expect"
   ]
  },
  {
   "cell_type": "code",
   "execution_count": 169,
   "metadata": {},
   "outputs": [
    {
     "data": {
      "image/png": "[encoded data removed]",
      "text/plain": [
       "<Figure size 432x288 with 1 Axes>"
      ]
     },
     "metadata": {},
     "output_type": "display_data"
    },
    {
     "data": {
      "text/plain": [
       "(-0.08935417381133523, 0.0946381103917435)"
      ]
     },
     "execution_count": 169,
     "metadata": {},
     "output_type": "execute_result"
    }
   ],
   "source": [
    "plt.scatter(df_uniq.cos_image, df_uniq.cos_word)\n",
    "plt.show()\n",
    "stats.pearsonr(df_uniq.cos_image, df_uniq.cos_word)"
   ]
  },
  {
   "cell_type": "code",
   "execution_count": null,
   "metadata": {},
   "outputs": [],
   "source": []
  },
  {
   "cell_type": "code",
   "execution_count": null,
   "metadata": {},
   "outputs": [],
   "source": []
  },
  {
   "cell_type": "markdown",
   "metadata": {},
   "source": [
    "# How much overlap is there between closest neighbors in image and word space?"
   ]
  },
  {
   "cell_type": "code",
   "execution_count": 170,
   "metadata": {},
   "outputs": [],
   "source": [
    "df2 = pd.DataFrame()\n",
    "\n",
    "for idx, group in df.groupby(\"word\"):\n",
    "    grp = group.copy()\n",
    "    grp[\"zscore_img\"] = stats.zscore(group.cos_image)\n",
    "    grp[\"zscore_word\"] = stats.zscore(group.cos_word)\n",
    "    df2 = df2.append(grp)"
   ]
  },
  {
   "cell_type": "code",
   "execution_count": 171,
   "metadata": {},
   "outputs": [],
   "source": [
    "overlaps = df2.query(\"(zscore_word <= -1) & (zscore_img <= -1)\")\n",
    "overlaps.to_csv(\"overlapping_pairwise.csv\", index=False)"
   ]
  },
  {
   "cell_type": "code",
   "execution_count": 172,
   "metadata": {},
   "outputs": [],
   "source": [
    "words = {}\n",
    "\n",
    "for idx, item in df2.iterrows():\n",
    "    avg_zscore = round(float((item.zscore_img+item.zscore_word))/2, 2)\n",
    "    if item.word not in words:\n",
    "        if item.zscore_img <= -1:\n",
    "            words[item.word] = [[(item.other, avg_zscore)],[]]\n",
    "        if item.zscore_word <= -1:\n",
    "            words[item.word] = [[],[(item.other, avg_zscore)]]\n",
    "    else:\n",
    "        if item.zscore_img <= -1:\n",
    "            words[item.word][0].append((item.other, avg_zscore))\n",
    "        if item.zscore_word <= -1:\n",
    "            words[item.word][1].append((item.other, avg_zscore))"
   ]
  },
  {
   "cell_type": "code",
   "execution_count": 182,
   "metadata": {},
   "outputs": [],
   "source": [
    "overlap_ratios = {}\n",
    "neighbor_counts = []\n",
    "for key, values in words.items():\n",
    "    intersect = set(values[0]) & set(values[1])\n",
    "    n = len(intersect)\n",
    "    neighbor_counts.append((key, n, len(values[0]), len(values[1])))\n",
    "    \n",
    "    overlap_ratios[key] = [round(float(n)/len(set(values[0]+values[1])), 3), \n",
    "                           [list(x) + [True] for x in intersect] +\n",
    "                           [list(x) + [False] for x in values[0]+values[1] if x not in intersect]]\n",
    "\n",
    "neighbor_counts = pd.DataFrame(neighbor_counts, \n",
    "                                columns = [\"word\", \"overlap_count\", \n",
    "                                           \"image_count\", \"word_count\"])\n",
    "neighbor_counts.to_csv(\"neighbor_counts_RANDOM.csv\", index=False)"
   ]
  },
  {
   "cell_type": "code",
   "execution_count": 174,
   "metadata": {},
   "outputs": [],
   "source": [
    "overlap_ratios_list = [(x, y[0], sorted(list(y[1]), key=lambda x: x[1])) for x, y in overlap_ratios.items()]"
   ]
  },
  {
   "cell_type": "code",
   "execution_count": 175,
   "metadata": {},
   "outputs": [],
   "source": [
    "overlap_table = pd.DataFrame(overlap_ratios_list, columns = [\"word\", \"overlap_ratio\", \"neighbors\"])"
   ]
  },
  {
   "cell_type": "code",
   "execution_count": 176,
   "metadata": {},
   "outputs": [
    {
     "data": {
      "text/plain": [
       "0.048037037037037045"
      ]
     },
     "execution_count": 176,
     "metadata": {},
     "output_type": "execute_result"
    }
   ],
   "source": [
    "np.mean(overlap_table.overlap_ratio)"
   ]
  },
  {
   "cell_type": "code",
   "execution_count": 177,
   "metadata": {},
   "outputs": [],
   "source": [
    "overlap_table.to_csv(\"overlap_table_RANDOM.csv\", index=False)"
   ]
  },
  {
   "cell_type": "code",
   "execution_count": 178,
   "metadata": {},
   "outputs": [
    {
     "data": {
      "text/html": [
       "<div>\n",
       "<style scoped>\n",
       "    .dataframe tbody tr th:only-of-type {\n",
       "        vertical-align: middle;\n",
       "    }\n",
       "\n",
       "    .dataframe tbody tr th {\n",
       "        vertical-align: top;\n",
       "    }\n",
       "\n",
       "    .dataframe thead th {\n",
       "        text-align: right;\n",
       "    }\n",
       "</style>\n",
       "<table border=\"1\" class=\"dataframe\">\n",
       "  <thead>\n",
       "    <tr style=\"text-align: right;\">\n",
       "      <th></th>\n",
       "      <th>word</th>\n",
       "      <th>overlap_count</th>\n",
       "      <th>image_count</th>\n",
       "      <th>word_count</th>\n",
       "    </tr>\n",
       "  </thead>\n",
       "  <tbody>\n",
       "    <tr>\n",
       "      <th>0</th>\n",
       "      <td>apple</td>\n",
       "      <td>1</td>\n",
       "      <td>4</td>\n",
       "      <td>6</td>\n",
       "    </tr>\n",
       "    <tr>\n",
       "      <th>1</th>\n",
       "      <td>baby</td>\n",
       "      <td>0</td>\n",
       "      <td>4</td>\n",
       "      <td>4</td>\n",
       "    </tr>\n",
       "    <tr>\n",
       "      <th>2</th>\n",
       "      <td>ball</td>\n",
       "      <td>1</td>\n",
       "      <td>6</td>\n",
       "      <td>5</td>\n",
       "    </tr>\n",
       "    <tr>\n",
       "      <th>3</th>\n",
       "      <td>bear</td>\n",
       "      <td>0</td>\n",
       "      <td>5</td>\n",
       "      <td>3</td>\n",
       "    </tr>\n",
       "    <tr>\n",
       "      <th>4</th>\n",
       "      <td>block</td>\n",
       "      <td>0</td>\n",
       "      <td>4</td>\n",
       "      <td>5</td>\n",
       "    </tr>\n",
       "    <tr>\n",
       "      <th>5</th>\n",
       "      <td>book</td>\n",
       "      <td>0</td>\n",
       "      <td>4</td>\n",
       "      <td>4</td>\n",
       "    </tr>\n",
       "    <tr>\n",
       "      <th>6</th>\n",
       "      <td>bottle</td>\n",
       "      <td>0</td>\n",
       "      <td>3</td>\n",
       "      <td>6</td>\n",
       "    </tr>\n",
       "    <tr>\n",
       "      <th>7</th>\n",
       "      <td>car</td>\n",
       "      <td>0</td>\n",
       "      <td>2</td>\n",
       "      <td>5</td>\n",
       "    </tr>\n",
       "    <tr>\n",
       "      <th>8</th>\n",
       "      <td>cat</td>\n",
       "      <td>2</td>\n",
       "      <td>4</td>\n",
       "      <td>6</td>\n",
       "    </tr>\n",
       "    <tr>\n",
       "      <th>9</th>\n",
       "      <td>chair</td>\n",
       "      <td>1</td>\n",
       "      <td>4</td>\n",
       "      <td>4</td>\n",
       "    </tr>\n",
       "    <tr>\n",
       "      <th>10</th>\n",
       "      <td>cow</td>\n",
       "      <td>1</td>\n",
       "      <td>5</td>\n",
       "      <td>2</td>\n",
       "    </tr>\n",
       "    <tr>\n",
       "      <th>11</th>\n",
       "      <td>cup</td>\n",
       "      <td>0</td>\n",
       "      <td>5</td>\n",
       "      <td>6</td>\n",
       "    </tr>\n",
       "    <tr>\n",
       "      <th>12</th>\n",
       "      <td>dog</td>\n",
       "      <td>0</td>\n",
       "      <td>3</td>\n",
       "      <td>3</td>\n",
       "    </tr>\n",
       "    <tr>\n",
       "      <th>13</th>\n",
       "      <td>duck</td>\n",
       "      <td>0</td>\n",
       "      <td>4</td>\n",
       "      <td>5</td>\n",
       "    </tr>\n",
       "    <tr>\n",
       "      <th>14</th>\n",
       "      <td>egg</td>\n",
       "      <td>0</td>\n",
       "      <td>5</td>\n",
       "      <td>3</td>\n",
       "    </tr>\n",
       "    <tr>\n",
       "      <th>15</th>\n",
       "      <td>elephant</td>\n",
       "      <td>1</td>\n",
       "      <td>4</td>\n",
       "      <td>3</td>\n",
       "    </tr>\n",
       "    <tr>\n",
       "      <th>16</th>\n",
       "      <td>fish</td>\n",
       "      <td>0</td>\n",
       "      <td>3</td>\n",
       "      <td>5</td>\n",
       "    </tr>\n",
       "    <tr>\n",
       "      <th>17</th>\n",
       "      <td>frog</td>\n",
       "      <td>0</td>\n",
       "      <td>3</td>\n",
       "      <td>3</td>\n",
       "    </tr>\n",
       "    <tr>\n",
       "      <th>18</th>\n",
       "      <td>giraffe</td>\n",
       "      <td>0</td>\n",
       "      <td>2</td>\n",
       "      <td>4</td>\n",
       "    </tr>\n",
       "    <tr>\n",
       "      <th>19</th>\n",
       "      <td>milk</td>\n",
       "      <td>1</td>\n",
       "      <td>6</td>\n",
       "      <td>6</td>\n",
       "    </tr>\n",
       "    <tr>\n",
       "      <th>20</th>\n",
       "      <td>monkey</td>\n",
       "      <td>1</td>\n",
       "      <td>5</td>\n",
       "      <td>3</td>\n",
       "    </tr>\n",
       "    <tr>\n",
       "      <th>21</th>\n",
       "      <td>pig</td>\n",
       "      <td>1</td>\n",
       "      <td>4</td>\n",
       "      <td>5</td>\n",
       "    </tr>\n",
       "    <tr>\n",
       "      <th>22</th>\n",
       "      <td>puppy</td>\n",
       "      <td>0</td>\n",
       "      <td>5</td>\n",
       "      <td>3</td>\n",
       "    </tr>\n",
       "    <tr>\n",
       "      <th>23</th>\n",
       "      <td>spoon</td>\n",
       "      <td>0</td>\n",
       "      <td>4</td>\n",
       "      <td>5</td>\n",
       "    </tr>\n",
       "    <tr>\n",
       "      <th>24</th>\n",
       "      <td>train</td>\n",
       "      <td>0</td>\n",
       "      <td>4</td>\n",
       "      <td>4</td>\n",
       "    </tr>\n",
       "    <tr>\n",
       "      <th>25</th>\n",
       "      <td>truck</td>\n",
       "      <td>0</td>\n",
       "      <td>3</td>\n",
       "      <td>6</td>\n",
       "    </tr>\n",
       "    <tr>\n",
       "      <th>26</th>\n",
       "      <td>water</td>\n",
       "      <td>0</td>\n",
       "      <td>4</td>\n",
       "      <td>3</td>\n",
       "    </tr>\n",
       "  </tbody>\n",
       "</table>\n",
       "</div>"
      ],
      "text/plain": [
       "        word  overlap_count  image_count  word_count\n",
       "0      apple              1            4           6\n",
       "1       baby              0            4           4\n",
       "2       ball              1            6           5\n",
       "3       bear              0            5           3\n",
       "4      block              0            4           5\n",
       "5       book              0            4           4\n",
       "6     bottle              0            3           6\n",
       "7        car              0            2           5\n",
       "8        cat              2            4           6\n",
       "9      chair              1            4           4\n",
       "10       cow              1            5           2\n",
       "11       cup              0            5           6\n",
       "12       dog              0            3           3\n",
       "13      duck              0            4           5\n",
       "14       egg              0            5           3\n",
       "15  elephant              1            4           3\n",
       "16      fish              0            3           5\n",
       "17      frog              0            3           3\n",
       "18   giraffe              0            2           4\n",
       "19      milk              1            6           6\n",
       "20    monkey              1            5           3\n",
       "21       pig              1            4           5\n",
       "22     puppy              0            5           3\n",
       "23     spoon              0            4           5\n",
       "24     train              0            4           4\n",
       "25     truck              0            3           6\n",
       "26     water              0            4           3"
      ]
     },
     "execution_count": 178,
     "metadata": {},
     "output_type": "execute_result"
    }
   ],
   "source": [
    "neighbor_counts"
   ]
  },
  {
   "cell_type": "code",
   "execution_count": null,
   "metadata": {},
   "outputs": [],
   "source": []
  }
 ],
 "metadata": {
  "kernelspec": {
   "display_name": "Python 3",
   "language": "python",
   "name": "python3"
  },
  "language_info": {
   "codemirror_mode": {
    "name": "ipython",
    "version": 3
   },
   "file_extension": ".py",
   "mimetype": "text/x-python",
   "name": "python",
   "nbconvert_exporter": "python",
   "pygments_lexer": "ipython3",
   "version": "3.6.5"
  }
 },
 "nbformat": 4,
 "nbformat_minor": 2
}
