{
 "cells": [
  {
   "cell_type": "code",
   "execution_count": 1,
   "metadata": {
    "collapsed": true
   },
   "outputs": [],
   "source": [
    "%load_ext autoreload\n",
    "%autoreload 2"
   ]
  },
  {
   "cell_type": "code",
   "execution_count": 17,
   "metadata": {},
   "outputs": [],
   "source": [
    "import matplotlib.pyplot as plt\n",
    "import numpy as np\n",
    "import pandas as pd\n",
    "from scipy import stats\n",
    "from scipy.spatial.distance import cosine\n",
    "import scipy\n",
    "from ggplot import *\n",
    "\n",
    "\n",
    "import object_class as oc\n",
    "from object_vectors import *\n",
    "import compare_vectors as cv"
   ]
  },
  {
   "cell_type": "code",
   "execution_count": 10,
   "metadata": {},
   "outputs": [],
   "source": [
    "wordvecs = oc.wordvecs(seedlings_categories, \"../../../../object_centrality/data_local/dict_glove_42b_300\", \n",
    "                                             \"../../../../object_centrality/data_local/glove_unit_42b_300.npy\")"
   ]
  },
  {
   "cell_type": "code",
   "execution_count": 11,
   "metadata": {
    "collapsed": true
   },
   "outputs": [],
   "source": [
    "wordvecs.sort(key=lambda x: x[0])\n",
    "columns = [x[0] for x in wordvecs]\n",
    "\n",
    "pairwise_matrix = []\n",
    "for vec in wordvecs:\n",
    "    result = []\n",
    "    for other in wordvecs:\n",
    "        result.append(cosine(vec[1], other[1]))\n",
    "    pairwise_matrix.append(result)\n",
    "# pairwise_word = pd.DataFrame(pairwise_matrix, columns=columns, index=columns)\n",
    "# pairwise_word.to_csv(\"pairwise_word_distances.csv\")"
   ]
  },
  {
   "cell_type": "code",
   "execution_count": 13,
   "metadata": {},
   "outputs": [],
   "source": [
    "image_vecs = []\n",
    "\n",
    "for x in seedlings_categories:\n",
    "    result = oc.find_central_vector(x)\n",
    "    image_vecs.append((x, result[0]))\n",
    "    \n",
    "image_vecs.sort(key=lambda x: x[0])\n",
    "pairwise_image_matrix = []\n",
    "for vec in image_vecs:\n",
    "    result = []\n",
    "    for other in image_vecs:\n",
    "        result.append(cosine(vec[1], other[1]))\n",
    "    pairwise_image_matrix.append(result)\n",
    "    \n",
    "# columns = ['word', 'other_word', 'cosine']\n",
    "\n",
    "# pairwise_image = pd.DataFrame(pairwise_image_matrix, columns=columns, index=columns)\n",
    "# pairwise_image.to_csv(\"pairwise_image_distances.csv\")"
   ]
  },
  {
   "cell_type": "code",
   "execution_count": 42,
   "metadata": {},
   "outputs": [],
   "source": [
    "animate = [\"puppy\", \"duck\", \"elephant\", \"pig\", \"monkey\", \"giraffe\",\n",
    "             \"bear\", \"baby\", \"fish\", \"frog\", \"cow\", \"dog\", \"cat\"]\n",
    "results = []\n",
    "for idx1, word1 in enumerate(sorted(seedlings_categories)):\n",
    "    img_vec1 = image_vecs[idx1]\n",
    "    wrd_vec1 = wordvecs[idx1]\n",
    "    for idx2, word2 in enumerate(sorted(seedlings_categories)):\n",
    "        img_vec2 = image_vecs[idx2]\n",
    "        wrd_vec2 = wordvecs[idx2]\n",
    "        anim = \"mixed\"\n",
    "        if word1 in animate and word2 in animate:\n",
    "            anim = \"animate\"\n",
    "        elif word1 not in animate and word2 not in animate:\n",
    "            anim = \"inanimate\"\n",
    "        if word1 != word2:\n",
    "            results.append([word1, word2, cosine(img_vec1[1], img_vec2[1]), cosine(wrd_vec1[1], wrd_vec2[1]), anim])\n",
    "        \n",
    "pairwise = pd.DataFrame(results, columns=[\"X1\", \"word\", \"cos_img\", \"cos_word\", \"animate\"])\n",
    "pairwise.to_csv(\"pairwise_distances.csv\", index=False)"
   ]
  },
  {
   "cell_type": "code",
   "execution_count": 43,
   "metadata": {},
   "outputs": [
    {
     "name": "stderr",
     "output_type": "stream",
     "text": [
      "/usr/local/lib/python2.7/site-packages/ipykernel/__main__.py:4: SettingWithCopyWarning: \n",
      "A value is trying to be set on a copy of a slice from a DataFrame.\n",
      "Try using .loc[row_indexer,col_indexer] = value instead\n",
      "\n",
      "See the caveats in the documentation: http://pandas.pydata.org/pandas-docs/stable/indexing.html#indexing-view-versus-copy\n",
      "/usr/local/lib/python2.7/site-packages/ipykernel/__main__.py:5: SettingWithCopyWarning: \n",
      "A value is trying to be set on a copy of a slice from a DataFrame.\n",
      "Try using .loc[row_indexer,col_indexer] = value instead\n",
      "\n",
      "See the caveats in the documentation: http://pandas.pydata.org/pandas-docs/stable/indexing.html#indexing-view-versus-copy\n"
     ]
    }
   ],
   "source": [
    "df2 = pd.DataFrame()\n",
    "\n",
    "for idx, group in pairwise.groupby(\"word\"):\n",
    "    group[\"zscore_img\"] = scipy.stats.zscore(group.cos_img)\n",
    "    group[\"zscore_word\"] = scipy.stats.zscore(group.cos_word)\n",
    "    df2 = df2.append(group)"
   ]
  },
  {
   "cell_type": "code",
   "execution_count": 44,
   "metadata": {
    "collapsed": true
   },
   "outputs": [],
   "source": [
    "overlaps = df2.query(\"(zscore_word <= -1) & (zscore_img <= -1)\")\n",
    "overlaps.to_csv(\"overlapping_pairwise.csv\", index=False)"
   ]
  },
  {
   "cell_type": "code",
   "execution_count": 45,
   "metadata": {
    "collapsed": true
   },
   "outputs": [],
   "source": [
    "words = {}\n",
    "\n",
    "for idx, item in df2.iterrows():\n",
    "    avg_zscore = round(float((item.zscore_img+item.zscore_word))/2, 2)\n",
    "    if item.word not in words:\n",
    "        if item.zscore_img <= -1:\n",
    "            words[item.word] = [[(item.X1, avg_zscore)],[]]\n",
    "        if item.zscore_word <= -1:\n",
    "            words[item.word] = [[],[(item.X1, avg_zscore)]]\n",
    "    else:\n",
    "        if item.zscore_img <= -1:\n",
    "            words[item.word][0].append((item.X1, avg_zscore))\n",
    "        if item.zscore_word <= -1:\n",
    "            words[item.word][1].append((item.X1, avg_zscore))"
   ]
  },
  {
   "cell_type": "code",
   "execution_count": 46,
   "metadata": {
    "collapsed": true
   },
   "outputs": [],
   "source": [
    "overlap_ratios = {}\n",
    "for key, values in words.items():\n",
    "    intersect = set(values[0]) & set(values[1])\n",
    "    n = len(intersect)\n",
    "    overlap_ratios[key] = [round(float(n)/len(set(values[0]+values[1])), 3), \n",
    "                           [list(x) + [True] for x in intersect] +\n",
    "                           [list(x) + [False] for x in values[0]+values[1] if x not in intersect]]\n",
    "    "
   ]
  },
  {
   "cell_type": "code",
   "execution_count": 47,
   "metadata": {
    "collapsed": true
   },
   "outputs": [],
   "source": [
    "overlap_ratios_list = [(x, y[0], sorted(list(y[1]), key=lambda x: x[1])) for x, y in overlap_ratios.items()]"
   ]
  },
  {
   "cell_type": "code",
   "execution_count": 48,
   "metadata": {
    "collapsed": true
   },
   "outputs": [],
   "source": [
    "overlap_table = pd.DataFrame(overlap_ratios_list, columns = [\"word\", \"overlap_ratio\", \"neighbors\"])"
   ]
  },
  {
   "cell_type": "code",
   "execution_count": null,
   "metadata": {},
   "outputs": [],
   "source": []
  },
  {
   "cell_type": "code",
   "execution_count": null,
   "metadata": {},
   "outputs": [],
   "source": []
  },
  {
   "cell_type": "code",
   "execution_count": null,
   "metadata": {},
   "outputs": [],
   "source": []
  },
  {
   "cell_type": "code",
   "execution_count": 114,
   "metadata": {
    "collapsed": true
   },
   "outputs": [],
   "source": [
    "overlap_table.sort_values(by=\"word\").to_csv(\"overlap_table.csv\", index=False)"
   ]
  }
 ],
 "metadata": {
  "kernelspec": {
   "display_name": "Python 2",
   "language": "python",
   "name": "python2"
  },
  "language_info": {
   "codemirror_mode": {
    "name": "ipython",
    "version": 2
   },
   "file_extension": ".py",
   "mimetype": "text/x-python",
   "name": "python",
   "nbconvert_exporter": "python",
   "pygments_lexer": "ipython2",
   "version": "2.7.14"
  }
 },
 "nbformat": 4,
 "nbformat_minor": 2
}
